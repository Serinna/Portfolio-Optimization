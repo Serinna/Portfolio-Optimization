{
 "cells": [
  {
   "cell_type": "code",
   "execution_count": 1,
   "metadata": {},
   "outputs": [],
   "source": [
    "import numpy as np\n",
    "import scipy as sp\n",
    "import pandas as pd\n",
    "import sklearn.decomposition\n",
    "import pandas_datareader.data as web"
   ]
  },
  {
   "cell_type": "code",
   "execution_count": 2,
   "metadata": {},
   "outputs": [],
   "source": [
    "\n",
    "stock= ['ALGN','COHR','ANET','ABMD','TREX','WLK','PAYC','PPC','FIVE','NVDA']\n",
    "original= web.DataReader(stock,data_source=\"yahoo\",start='01/01/2018',end='31/12/2018')['Adj Close']"
   ]
  },
  {
   "cell_type": "code",
   "execution_count": 3,
   "metadata": {},
   "outputs": [
    {
     "data": {
      "text/plain": [
       "(251, 10)"
      ]
     },
     "execution_count": 3,
     "metadata": {},
     "output_type": "execute_result"
    }
   ],
   "source": [
    "original.shape"
   ]
  },
  {
   "cell_type": "code",
   "execution_count": 4,
   "metadata": {},
   "outputs": [],
   "source": [
    "## compute daily return and normalize\n",
    "asset_returns=original.pct_change().dropna()\n",
    "normed_returns=(asset_returns-asset_returns.mean(axis=0))/asset_returns.std(axis=0)"
   ]
  },
  {
   "cell_type": "code",
   "execution_count": 5,
   "metadata": {},
   "outputs": [
    {
     "data": {
      "text/html": [
       "<div>\n",
       "<style scoped>\n",
       "    .dataframe tbody tr th:only-of-type {\n",
       "        vertical-align: middle;\n",
       "    }\n",
       "\n",
       "    .dataframe tbody tr th {\n",
       "        vertical-align: top;\n",
       "    }\n",
       "\n",
       "    .dataframe thead th {\n",
       "        text-align: right;\n",
       "    }\n",
       "</style>\n",
       "<table border=\"1\" class=\"dataframe\">\n",
       "  <thead>\n",
       "    <tr style=\"text-align: right;\">\n",
       "      <th>Symbols</th>\n",
       "      <th>ABMD</th>\n",
       "      <th>ALGN</th>\n",
       "      <th>ANET</th>\n",
       "      <th>COHR</th>\n",
       "      <th>FIVE</th>\n",
       "      <th>NVDA</th>\n",
       "      <th>PAYC</th>\n",
       "      <th>PPC</th>\n",
       "      <th>TREX</th>\n",
       "      <th>WLK</th>\n",
       "    </tr>\n",
       "    <tr>\n",
       "      <th>Date</th>\n",
       "      <th></th>\n",
       "      <th></th>\n",
       "      <th></th>\n",
       "      <th></th>\n",
       "      <th></th>\n",
       "      <th></th>\n",
       "      <th></th>\n",
       "      <th></th>\n",
       "      <th></th>\n",
       "      <th></th>\n",
       "    </tr>\n",
       "  </thead>\n",
       "  <tbody>\n",
       "    <tr>\n",
       "      <th>2018-01-03</th>\n",
       "      <td>0.491598</td>\n",
       "      <td>0.989820</td>\n",
       "      <td>0.645434</td>\n",
       "      <td>0.701746</td>\n",
       "      <td>0.788733</td>\n",
       "      <td>2.159706</td>\n",
       "      <td>0.195789</td>\n",
       "      <td>-0.649231</td>\n",
       "      <td>1.656604</td>\n",
       "      <td>-0.360514</td>\n",
       "    </tr>\n",
       "    <tr>\n",
       "      <th>2018-01-04</th>\n",
       "      <td>0.498812</td>\n",
       "      <td>0.302993</td>\n",
       "      <td>-0.408668</td>\n",
       "      <td>-0.739912</td>\n",
       "      <td>0.871140</td>\n",
       "      <td>0.205589</td>\n",
       "      <td>0.873852</td>\n",
       "      <td>-0.278309</td>\n",
       "      <td>-1.579351</td>\n",
       "      <td>0.550537</td>\n",
       "    </tr>\n",
       "    <tr>\n",
       "      <th>2018-01-05</th>\n",
       "      <td>0.428542</td>\n",
       "      <td>1.126121</td>\n",
       "      <td>0.571723</td>\n",
       "      <td>0.890747</td>\n",
       "      <td>-0.204635</td>\n",
       "      <td>0.308967</td>\n",
       "      <td>0.267171</td>\n",
       "      <td>0.054290</td>\n",
       "      <td>0.662666</td>\n",
       "      <td>0.884792</td>\n",
       "    </tr>\n",
       "    <tr>\n",
       "      <th>2018-01-08</th>\n",
       "      <td>0.817785</td>\n",
       "      <td>1.098097</td>\n",
       "      <td>1.976421</td>\n",
       "      <td>0.570740</td>\n",
       "      <td>-2.782250</td>\n",
       "      <td>1.024427</td>\n",
       "      <td>0.259619</td>\n",
       "      <td>1.416254</td>\n",
       "      <td>-0.390049</td>\n",
       "      <td>0.483969</td>\n",
       "    </tr>\n",
       "    <tr>\n",
       "      <th>2018-01-09</th>\n",
       "      <td>0.229363</td>\n",
       "      <td>0.341118</td>\n",
       "      <td>-0.144599</td>\n",
       "      <td>0.199849</td>\n",
       "      <td>0.443848</td>\n",
       "      <td>0.026723</td>\n",
       "      <td>-0.040505</td>\n",
       "      <td>-0.239051</td>\n",
       "      <td>1.220966</td>\n",
       "      <td>0.021760</td>\n",
       "    </tr>\n",
       "  </tbody>\n",
       "</table>\n",
       "</div>"
      ],
      "text/plain": [
       "Symbols         ABMD      ALGN      ANET      COHR      FIVE      NVDA  \\\n",
       "Date                                                                     \n",
       "2018-01-03  0.491598  0.989820  0.645434  0.701746  0.788733  2.159706   \n",
       "2018-01-04  0.498812  0.302993 -0.408668 -0.739912  0.871140  0.205589   \n",
       "2018-01-05  0.428542  1.126121  0.571723  0.890747 -0.204635  0.308967   \n",
       "2018-01-08  0.817785  1.098097  1.976421  0.570740 -2.782250  1.024427   \n",
       "2018-01-09  0.229363  0.341118 -0.144599  0.199849  0.443848  0.026723   \n",
       "\n",
       "Symbols         PAYC       PPC      TREX       WLK  \n",
       "Date                                                \n",
       "2018-01-03  0.195789 -0.649231  1.656604 -0.360514  \n",
       "2018-01-04  0.873852 -0.278309 -1.579351  0.550537  \n",
       "2018-01-05  0.267171  0.054290  0.662666  0.884792  \n",
       "2018-01-08  0.259619  1.416254 -0.390049  0.483969  \n",
       "2018-01-09 -0.040505 -0.239051  1.220966  0.021760  "
      ]
     },
     "execution_count": 5,
     "metadata": {},
     "output_type": "execute_result"
    }
   ],
   "source": [
    "normed_returns.head(5)"
   ]
  },
  {
   "cell_type": "code",
   "execution_count": 6,
   "metadata": {},
   "outputs": [],
   "source": [
    "## construct covariance matrix and fit PCA\n",
    "cov_matrix=normed_returns.cov()\n",
    "cov_matrix_raw=asset_returns.cov()\n",
    "pca=sklearn.decomposition.PCA().fit(cov_matrix)"
   ]
  },
  {
   "cell_type": "code",
   "execution_count": 7,
   "metadata": {},
   "outputs": [],
   "source": [
    "## variance explained\n",
    "explain=pca.explained_variance_ratio_\n",
    "pcs=pca.components_"
   ]
  },
  {
   "cell_type": "code",
   "execution_count": 8,
   "metadata": {},
   "outputs": [
    {
     "data": {
      "text/plain": [
       "array([3.91167927e-01, 1.42025605e-01, 1.32144658e-01, 9.89163143e-02,\n",
       "       8.63894947e-02, 5.30311429e-02, 3.88527774e-02, 3.56202272e-02,\n",
       "       2.18518541e-02, 7.50415242e-36])"
      ]
     },
     "execution_count": 8,
     "metadata": {},
     "output_type": "execute_result"
    }
   ],
   "source": [
    "explain"
   ]
  },
  {
   "cell_type": "code",
   "execution_count": 9,
   "metadata": {},
   "outputs": [
    {
     "data": {
      "text/plain": [
       "Text(0.5, 1.0, 'Variance explained by Pcs')"
      ]
     },
     "execution_count": 9,
     "metadata": {},
     "output_type": "execute_result"
    },
    {
     "data": {
      "image/png": "[encoded data removed]",
      "text/plain": [
       "<Figure size 432x288 with 1 Axes>"
      ]
     },
     "metadata": {
      "needs_background": "light"
     },
     "output_type": "display_data"
    }
   ],
   "source": [
    "import matplotlib.pyplot as plt\n",
    "%matplotlib inline\n",
    "plt.plot(explain)\n",
    "plt.title('Variance explained by Pcs')"
   ]
  },
  {
   "cell_type": "code",
   "execution_count": 10,
   "metadata": {},
   "outputs": [],
   "source": [
    "## normalize\n",
    "normalized_portfolio={}\n",
    "for i in range(len(pcs)):\n",
    "    portfolio=pcs[:,i]\n",
    "    normalized_portfolio['pc'+str(i)]=portfolio/np.sum(portfolio)\n",
    "\n",
    "## pc1 is market factor and largest source of systematic risk\n",
    "market_factor=normalized_portfolio['pc0']"
   ]
  },
  {
   "cell_type": "code",
   "execution_count": 11,
   "metadata": {},
   "outputs": [],
   "source": [
    "## since first 5 PCs explain about 88% of total variance, reconstruct data with first 2 PCs to reduce noise\n",
    "## before optimizing portfolio. However, these hidden factors should also be paid attention to.\n",
    "copy=asset_returns.copy()\n",
    "pc_use=sklearn.decomposition.PCA(n_components=5).fit(asset_returns)\n",
    "projected = pc_use.inverse_transform(pc_use.transform(copy))"
   ]
  },
  {
   "cell_type": "code",
   "execution_count": 12,
   "metadata": {},
   "outputs": [],
   "source": [
    "projected=pd.DataFrame(data=projected,index=normed_returns.index,columns=normed_returns.columns)"
   ]
  },
  {
   "cell_type": "code",
   "execution_count": 13,
   "metadata": {},
   "outputs": [
    {
     "name": "stdout",
     "output_type": "stream",
     "text": [
      "Symbols\n",
      "ABMD    0.000143\n",
      "ALGN    0.000160\n",
      "ANET    0.000200\n",
      "COHR    0.000042\n",
      "FIVE    0.000019\n",
      "NVDA    0.000215\n",
      "PAYC    0.000286\n",
      "PPC     0.000289\n",
      "TREX    0.000034\n",
      "WLK     0.000256\n",
      "dtype: float64\n"
     ]
    }
   ],
   "source": [
    "## examine the loss between projected and original. All stocks seem to have similar loss.\n",
    "loss=((asset_returns-projected)**2).mean()\n",
    "print(loss)"
   ]
  },
  {
   "cell_type": "markdown",
   "metadata": {},
   "source": [
    "Compare the projected data with original data for the stock with largest loss (NVDA) and smallest loss (FIVE)."
   ]
  },
  {
   "cell_type": "code",
   "execution_count": 14,
   "metadata": {},
   "outputs": [
    {
     "data": {
      "text/plain": [
       "<matplotlib.legend.Legend at 0x1a2050f080>"
      ]
     },
     "execution_count": 14,
     "metadata": {},
     "output_type": "execute_result"
    },
    {
     "data": {
      "image/png": "[encoded data removed]",
      "text/plain": [
       "<Figure size 432x288 with 1 Axes>"
      ]
     },
     "metadata": {
      "needs_background": "light"
     },
     "output_type": "display_data"
    }
   ],
   "source": [
    "plt.plot(asset_returns.PPC,label='original')\n",
    "plt.plot(projected.PPC,color='orange',label='projected')\n",
    "plt.ylim(top=0.2)\n",
    "plt.ylim(bottom=-0.1)\n",
    "plt.title('Stock NVDA Projected vs Real')\n",
    "plt.legend()"
   ]
  },
  {
   "cell_type": "code",
   "execution_count": 17,
   "metadata": {},
   "outputs": [
    {
     "data": {
      "text/plain": [
       "<matplotlib.legend.Legend at 0x1a206651d0>"
      ]
     },
     "execution_count": 17,
     "metadata": {},
     "output_type": "execute_result"
    },
    {
     "data": {
      "image/png": "[encoded data removed]",
      "text/plain": [
       "<Figure size 432x288 with 1 Axes>"
      ]
     },
     "metadata": {
      "needs_background": "light"
     },
     "output_type": "display_data"
    }
   ],
   "source": [
    "plt.plot(asset_returns.FIVE,label='original')\n",
    "plt.plot(projected.FIVE,color='orange',label='projected')\n",
    "plt.title('Stock FIVE Projected vs Real')\n",
    "plt.legend()"
   ]
  },
  {
   "cell_type": "markdown",
   "metadata": {},
   "source": [
    "The first 5 PCs catch clearly more features of FIVE than NVDA. It is highly likely that during this period, NVDA's price was affected a lot by unseen factors while FIVE's price was not."
   ]
  },
  {
   "cell_type": "code",
   "execution_count": 20,
   "metadata": {},
   "outputs": [],
   "source": [
    "## since the interest rates are so low, it is commonly assumed that the risk free rate is zero\n",
    "def sharpe_ratio(returns,weights,days=252):\n",
    "    annualized_return=np.sum(returns.mean()*weights)*252\n",
    "    annualized_vol=np.sqrt(np.dot(weights.T, np.dot(cov_matrix_raw,weights)))*np.sqrt(days)\n",
    "    sharpe_ratio=annualized_return/annualized_vol\n",
    "    return annualized_return,annualized_vol,sharpe_ratio"
   ]
  },
  {
   "cell_type": "code",
   "execution_count": 21,
   "metadata": {},
   "outputs": [
    {
     "data": {
      "text/plain": [
       "(0.9446383821550878, 0.4346175804882838, 2.1734932606587294)"
      ]
     },
     "execution_count": 21,
     "metadata": {},
     "output_type": "execute_result"
    }
   ],
   "source": [
    "sharpe_ratio(projected,normalized_portfolio['pc0'],days=252)"
   ]
  },
  {
   "cell_type": "code",
   "execution_count": 22,
   "metadata": {},
   "outputs": [],
   "source": [
    "## generate n portfolio with random weights\n",
    "def generate_random_portfolio(n,returns):\n",
    "    results=np.zeros((3,n))\n",
    "    results[1,:]=100\n",
    "    all_weights=[]\n",
    "    for i in range(n):\n",
    "        weights=np.random.random(returns.shape[1])\n",
    "        weights/=np.sum(weights)\n",
    "        annualized_return,annualized_vol,sr=sharpe_ratio(returns,weights)\n",
    "        if annualized_return>0:\n",
    "            results[0,i]=annualized_return\n",
    "            results[1,i]=annualized_vol\n",
    "            results[2,i]=sr\n",
    "        all_weights.append(weights)\n",
    "    return results,all_weights        "
   ]
  },
  {
   "cell_type": "code",
   "execution_count": 23,
   "metadata": {},
   "outputs": [],
   "source": [
    "## find the portfolio with larget sharpe ratio (tangency portfolio) and minimum volatility (min variance portfolio)\n",
    "## in generated n random portfolios\n",
    "def find_optimal(returns,n):\n",
    "    results,all_weights=generate_random_portfolio(n,returns)\n",
    "    ## tangency portfolio\n",
    "    max_sr_idx=np.argmax(results[2])\n",
    "    msr_port_return,msr_port_vol=results[0,max_sr_idx], results[1,max_sr_idx]\n",
    "    max_sr_loadings=pd.DataFrame(all_weights[max_sr_idx],index=projected.columns,columns=['loadings'])\n",
    "    max_sr_loadings.loadings=[round(i*100,2) for i in max_sr_loadings.loadings]\n",
    "\n",
    "    ## min variance portfolio\n",
    "    \n",
    "    min_vol_idx=np.argmin(results[1])\n",
    "    mv_port_return,mv_port_vol=results[0,min_vol_idx], results[1,min_vol_idx]\n",
    "    min_vol_loadings=pd.DataFrame(all_weights[min_vol_idx],index=projected.columns,columns=['loadings'])\n",
    "    min_vol_loadings.loadings=[round(i*100,2) for i in min_vol_loadings.loadings]\n",
    "    \n",
    "    print (\"Maximum Sharpe Ratio Portfolio Loadings\\n\")\n",
    "    print (\"Annualised Return:\", round(msr_port_return,4))\n",
    "    print (\"Annualised Volatility:\", round(msr_port_vol,2))\n",
    "    print (\"\\n\")\n",
    "    print (max_sr_loadings.T)\n",
    "    print (\"\\n\")\n",
    "    print (\"Minimum Volatility Portfolio Loadings\\n\")\n",
    "    print (\"Annualised Return:\", round(mv_port_return,4))\n",
    "    print (\"Annualised Volatility:\", round(mv_port_vol,2))\n",
    "    print (\"\\n\")\n",
    "    print (min_vol_loadings.T)  "
   ]
  },
  {
   "cell_type": "code",
   "execution_count": 24,
   "metadata": {},
   "outputs": [
    {
     "name": "stdout",
     "output_type": "stream",
     "text": [
      "Maximum Sharpe Ratio Portfolio Loadings\n",
      "\n",
      "Annualised Return: 0.3521\n",
      "Annualised Volatility: 0.31\n",
      "\n",
      "\n",
      "Symbols    ABMD  ALGN   ANET  COHR   FIVE  NVDA  PAYC   PPC  TREX  WLK\n",
      "loadings  22.59  7.44  10.07  1.16  26.53  1.09  22.5  5.13   2.7  0.8\n",
      "\n",
      "\n",
      "Minimum Volatility Portfolio Loadings\n",
      "\n",
      "Annualised Return: 0.0308\n",
      "Annualised Volatility: 0.25\n",
      "\n",
      "\n",
      "Symbols    ABMD  ALGN  ANET  COHR   FIVE  NVDA   PAYC    PPC  TREX    WLK\n",
      "loadings  10.19  4.09  0.66  2.05  15.25  0.97  14.19  18.32  16.7  17.58\n"
     ]
    }
   ],
   "source": [
    "find_optimal(projected,50000)"
   ]
  },
  {
   "cell_type": "code",
   "execution_count": 25,
   "metadata": {},
   "outputs": [
    {
     "data": {
      "text/plain": [
       "Symbols\n",
       "ABMD    0.027498\n",
       "ALGN    0.026554\n",
       "ANET    0.026997\n",
       "COHR    0.030603\n",
       "FIVE    0.027263\n",
       "NVDA    0.027279\n",
       "PAYC    0.021070\n",
       "PPC     0.010852\n",
       "TREX    0.026200\n",
       "WLK     0.011128\n",
       "dtype: float64"
      ]
     },
     "execution_count": 25,
     "metadata": {},
     "output_type": "execute_result"
    }
   ],
   "source": [
    "projected.std()"
   ]
  },
  {
   "cell_type": "markdown",
   "metadata": {},
   "source": [
    "For the min variance portfolio, larger percent of portfolio is given to stocks with smaller std in generall."
   ]
  }
 ],
 "metadata": {
  "kernelspec": {
   "display_name": "Python 3",
   "language": "python",
   "name": "python3"
  },
  "language_info": {
   "codemirror_mode": {
    "name": "ipython",
    "version": 3
   },
   "file_extension": ".py",
   "mimetype": "text/x-python",
   "name": "python",
   "nbconvert_exporter": "python",
   "pygments_lexer": "ipython3",
   "version": "3.6.8"
  }
 },
 "nbformat": 4,
 "nbformat_minor": 2
}
